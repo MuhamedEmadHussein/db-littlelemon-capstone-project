{
 "cells": [
  {
   "cell_type": "code",
   "execution_count": 1,
   "metadata": {},
   "outputs": [
    {
     "name": "stdout",
     "output_type": "stream",
     "text": [
      "Requirement already satisfied: mysql-connector-python in c:\\users\\solimna sore\\appdata\\local\\programs\\python\\python39\\lib\\site-packages (8.0.33)\n",
      "Requirement already satisfied: protobuf<=3.20.3,>=3.11.0 in c:\\users\\solimna sore\\appdata\\local\\programs\\python\\python39\\lib\\site-packages (from mysql-connector-python) (3.20.3)\n",
      "Note: you may need to restart the kernel to use updated packages.\n"
     ]
    },
    {
     "name": "stderr",
     "output_type": "stream",
     "text": [
      "\n",
      "[notice] A new release of pip is available: 23.0 -> 23.1.2\n",
      "[notice] To update, run: python.exe -m pip install --upgrade pip\n"
     ]
    }
   ],
   "source": [
    "!pip install mysql-connector-python"
   ]
  },
  {
   "cell_type": "code",
   "execution_count": 2,
   "metadata": {},
   "outputs": [
    {
     "name": "stdout",
     "output_type": "stream",
     "text": [
      "Connection between MySQL and Python is established.\n",
      "\n"
     ]
    }
   ],
   "source": [
    "import mysql.connector as connector\n",
    "\n",
    "connection=connector.connect(\n",
    "                             user=\"root\",\n",
    "                             password=\"\",\n",
    "                             db=\"Littlelemon_db\",\n",
    "                            )\n",
    "print(\"Connection between MySQL and Python is established.\\n\")"
   ]
  },
  {
   "cell_type": "code",
   "execution_count": 4,
   "metadata": {},
   "outputs": [
    {
     "name": "stdout",
     "output_type": "stream",
     "text": [
      "('bookings',)\n",
      "('contactdetails',)\n",
      "('customers',)\n",
      "('menuitems',)\n",
      "('menus',)\n",
      "('orderdeliverystatus',)\n",
      "('orders',)\n",
      "('ordersview',)\n",
      "('roles',)\n",
      "('staff',)\n"
     ]
    }
   ],
   "source": [
    "cursor = connection.cursor()\n",
    "cursor.execute(\"SHOW TABLES;\")\n",
    "results = cursor.fetchall()\n",
    "for res in results:\n",
    "    print(res)"
   ]
  },
  {
   "cell_type": "code",
   "execution_count": 5,
   "metadata": {},
   "outputs": [],
   "source": [
    "select_join_query = \"\"\"\n",
    "SELECT C.Name AS FullName, CD.Email,CD.PhoneNumber,CD.Address,CD.Country,CD.City,O.TotalCost AS Cost\n",
    "FROM ContactDetails AS CD\n",
    "INNER JOIN Customers AS C\n",
    "ON CD.CustomerID = C.CustmerID\n",
    "INNER JOIN Orders AS O\n",
    "ON  C.CustmerID = O.CustomerID\n",
    "WHERE O.TotalCost > 60\n",
    "ORDER BY O.TotalCost DESC;\n",
    "\"\"\""
   ]
  },
  {
   "cell_type": "code",
   "execution_count": 6,
   "metadata": {},
   "outputs": [
    {
     "name": "stdout",
     "output_type": "stream",
     "text": [
      "('FullName', 'Email', 'PhoneNumber', 'Address', 'Country', 'City', 'Cost')\n"
     ]
    }
   ],
   "source": [
    "cursor.execute(select_join_query)\n",
    "results = cursor.fetchall()\n",
    "cols = cursor.column_names\n",
    "print(cols)\n",
    "for result in results:\n",
    "    print(result)"
   ]
  },
  {
   "cell_type": "code",
   "execution_count": 7,
   "metadata": {},
   "outputs": [
    {
     "name": "stdout",
     "output_type": "stream",
     "text": [
      "There are 0 customers with more than $60 of spending...\n",
      "Printing the top 10 spenders...\n"
     ]
    }
   ],
   "source": [
    "print(f'There are {len(results)} customers with more than $60 of spending...')\n",
    "print('Printing the top 10 spenders...')\n",
    "\n",
    "for customer in results[:10]:\n",
    "    print('=' * 50)\n",
    "    print(f'Full Name: \\t {customer[0]}')\n",
    "    print(f'Email: \\t\\t {customer[1]}')\n",
    "    print(f'Phone Number: \\t {customer[2]}')\n",
    "    print(f'Address: \\t {customer[3]}')\n",
    "    print(f'Country: \\t {customer[4]}')\n",
    "    print(f'City: \\t\\t {customer[5]}')\n",
    "    print(f'Has spent: \\t {float(customer[6])}')"
   ]
  }
 ],
 "metadata": {
  "kernelspec": {
   "display_name": "Python 3",
   "language": "python",
   "name": "python3"
  },
  "language_info": {
   "codemirror_mode": {
    "name": "ipython",
    "version": 3
   },
   "file_extension": ".py",
   "mimetype": "text/x-python",
   "name": "python",
   "nbconvert_exporter": "python",
   "pygments_lexer": "ipython3",
   "version": "3.9.5"
  },
  "orig_nbformat": 4
 },
 "nbformat": 4,
 "nbformat_minor": 2
}
